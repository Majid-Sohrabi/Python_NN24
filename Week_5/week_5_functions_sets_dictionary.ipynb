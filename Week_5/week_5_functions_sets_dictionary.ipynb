{
 "cells": [
  {
   "cell_type": "markdown",
   "metadata": {
    "id": "d8ShhvetFpA7"
   },
   "source": [
    "# Week 5: Functions (map, _sum, _min, _max), Sets, Dictionaries, Sorted() (Linguistics)\n",
    "\n",
    "Instructor: **Majid Sohrabi**"
   ]
  },
  {
   "cell_type": "markdown",
   "metadata": {},
   "source": [
    "# 1. Functions (map, sum, min, max)\n",
    "\n",
    "\n",
    "## Adding elements of the lists and tuples\n",
    "\n",
    "There are some functions that are also specific to the lists and tuples. E.g. function `sum()` will sum up the elements of the list or tuple if all of them are numbers."
   ]
  },
  {
   "cell_type": "code",
   "execution_count": 13,
   "metadata": {},
   "outputs": [
    {
     "name": "stdout",
     "output_type": "stream",
     "text": [
      "6\n",
      "10.5\n"
     ]
    }
   ],
   "source": [
    "print(sum([1,2,3]))     # Adding integers in our list\n",
    "print(sum((3.5,3,4)))   # Adding floats in our tuple"
   ]
  },
  {
   "cell_type": "markdown",
   "metadata": {},
   "source": [
    "## `map()` function\n",
    "\n",
    "Now imagine that we read some string representing a sequence of numbers and we want to find their sum or to do some other operations with numbers. Let's try to find out the grade point average for a student."
   ]
  },
  {
   "cell_type": "code",
   "execution_count": 14,
   "metadata": {},
   "outputs": [
    {
     "name": "stdout",
     "output_type": "stream",
     "text": [
      "['10', '9', '8', '5', '6', '10']\n"
     ]
    },
    {
     "ename": "TypeError",
     "evalue": "unsupported operand type(s) for +: 'int' and 'str'",
     "output_type": "error",
     "traceback": [
      "\u001b[0;31m---------------------------------------------------------------------------\u001b[0m",
      "\u001b[0;31mTypeError\u001b[0m                                 Traceback (most recent call last)",
      "Cell \u001b[0;32mIn[14], line 3\u001b[0m\n\u001b[1;32m      1\u001b[0m marks \u001b[38;5;241m=\u001b[39m \u001b[38;5;124m'\u001b[39m\u001b[38;5;124m10 9 8 5 6 10\u001b[39m\u001b[38;5;124m'\u001b[39m\u001b[38;5;241m.\u001b[39msplit() \u001b[38;5;66;03m# converting our string to a list of digits\u001b[39;00m\n\u001b[1;32m      2\u001b[0m \u001b[38;5;28mprint\u001b[39m(marks)\n\u001b[0;32m----> 3\u001b[0m \u001b[38;5;28mprint\u001b[39m(\u001b[38;5;28;43msum\u001b[39;49m\u001b[43m(\u001b[49m\u001b[43mmarks\u001b[49m\u001b[43m)\u001b[49m)\n",
      "\u001b[0;31mTypeError\u001b[0m: unsupported operand type(s) for +: 'int' and 'str'"
     ]
    }
   ],
   "source": [
    "marks = '10 9 8 5 6 10'.split() # converting our string to a list of digits\n",
    "print(marks)\n",
    "print(sum(marks))"
   ]
  },
  {
   "cell_type": "markdown",
   "metadata": {},
   "source": [
    "Snap! We've got an error because `sum()` works only with `integers` or `floats` and we have a list of strings. What can we do? Of course we can loop through a list and convert each string to an integer. But it looks rather redundant.\n",
    "\n",
    "We will use the function called `map()`. It takes two arguments — a fuction/a method and a sequence. `map()` is *mapping* (applying) the fucntion to all elements of the sequence.\n",
    "\n",
    "Please note, that we should pass to `map()` only the name of function without brackets (`int` instead of `int()`)."
   ]
  },
  {
   "cell_type": "code",
   "execution_count": 21,
   "metadata": {},
   "outputs": [
    {
     "name": "stdout",
     "output_type": "stream",
     "text": [
      "['10', '9', '8', '5', '6', '10']\n",
      "<map object at 0x106cea290>\n",
      "48.0\n"
     ]
    }
   ],
   "source": [
    "marks = '10 9 8 5 6 10'.split() # converting our string to a list of digits\n",
    "print(marks)\n",
    "\n",
    "marks_int = map(float, marks)     # converting all strings to ingtegers\n",
    "print(marks_int)                # checking new object, looks strange!\n",
    "\n",
    "print(sum(marks_int))           # but with sum() works just fine!"
   ]
  },
  {
   "cell_type": "markdown",
   "metadata": {},
   "source": [
    "So, what is `<map object at 0x7fc428c94c90>` anyway?. Strictly speaking `map()` produces some specific object that is none of the data types we are familiar with. But Python can sum up its elements or loop through it just fine.\n",
    "\n",
    "However, that object has no length, so we will not be able to calculate the GPA with it. Thus, if we want to see what is inside the `map object` or if we need to perfrom some opeartions to it that are not suppoerted, we can always convert it to a list."
   ]
  },
  {
   "cell_type": "code",
   "execution_count": 22,
   "metadata": {},
   "outputs": [
    {
     "name": "stdout",
     "output_type": "stream",
     "text": [
      "[10, 9, 8, 5, 6, 10]\n",
      "8.0\n"
     ]
    }
   ],
   "source": [
    "marks = '10 9 8 5 6 10'.split()\n",
    "marks_int_list = list(map(int, marks))         # converting result of map() to a list\n",
    "print(marks_int_list)                          # checking new object, it's a list of integers\n",
    "print(sum(marks_int_list)/len(marks_int_list)) # finally finding our GPA"
   ]
  },
  {
   "cell_type": "markdown",
   "metadata": {},
   "source": [
    "Another useful application of `map()` is to apply some method to all strings in the list. E.g. let's bring all our strings within a list to a lower case.\n",
    "\n",
    "If we want to use a method instead of function as the first argument of `map()` we have to specify to which data type it belongs. E.g. `str.lower()` is the method `.lower()` for data type `str`."
   ]
  },
  {
   "cell_type": "code",
   "execution_count": 24,
   "metadata": {},
   "outputs": [
    {
     "name": "stdout",
     "output_type": "stream",
     "text": [
      "['Cat', 'Dog', 'Cat', 'Parrot']\n",
      "['cat', 'dog', 'cat', 'parrot']\n"
     ]
    }
   ],
   "source": [
    "words = 'Cat Dog Cat Parrot'.split()\n",
    "print(words)\n",
    "\n",
    "words_lower = list(map(str.lower, words))\n",
    "print(words_lower)"
   ]
  },
  {
   "cell_type": "markdown",
   "metadata": {},
   "source": [
    "## Finding miminum and maximum"
   ]
  },
  {
   "cell_type": "markdown",
   "metadata": {},
   "source": [
    "Other useful function that works with both tuples and lists are `min()` and `max()` which returns minimal or maximal value."
   ]
  },
  {
   "cell_type": "code",
   "execution_count": 25,
   "metadata": {},
   "outputs": [
    {
     "name": "stdout",
     "output_type": "stream",
     "text": [
      "In the list [4, -9, 12] the minimum is -9\n",
      "In the list [4, -9, 12] the maximum is 12\n"
     ]
    }
   ],
   "source": [
    "numbers = [4,-9,12]\n",
    "print(f'In the list {numbers} the minimum is {min(numbers)}')\n",
    "print(f'In the list {numbers} the maximum is {max(numbers)}')"
   ]
  },
  {
   "cell_type": "markdown",
   "metadata": {},
   "source": [
    "By the way, `min()` & `max()` will work with the sequences of strings as well. They will return the 'minimum' and the 'maximum' string in Python's opition."
   ]
  },
  {
   "cell_type": "code",
   "execution_count": 31,
   "metadata": {},
   "outputs": [
    {
     "name": "stdout",
     "output_type": "stream",
     "text": [
      "Minimum symbol in abz112358: 1, maximum symbol is z.\n"
     ]
    }
   ],
   "source": [
    "s = 'abz112358'\n",
    "print(f'Minimum symbol in {s}: {min(s)}, maximum symbol is {max(s)}.')"
   ]
  },
  {
   "cell_type": "markdown",
   "metadata": {},
   "source": [
    "Why is `'z'` bigger than `'1'` we will talk in the future."
   ]
  },
  {
   "cell_type": "code",
   "execution_count": null,
   "metadata": {},
   "outputs": [],
   "source": []
  },
  {
   "cell_type": "code",
   "execution_count": null,
   "metadata": {},
   "outputs": [],
   "source": []
  },
  {
   "cell_type": "code",
   "execution_count": null,
   "metadata": {},
   "outputs": [],
   "source": []
  },
  {
   "cell_type": "code",
   "execution_count": null,
   "metadata": {},
   "outputs": [],
   "source": []
  },
  {
   "cell_type": "markdown",
   "metadata": {},
   "source": [
    "# 2. Sets\n",
    "\n",
    "**Sets** are data structures that can contain only **unique immutable objects**. Sets in Python are actually very close to their prototypes — mathematical sets.\n",
    "\n",
    "To create a set we list objects inside the curly breakets."
   ]
  },
  {
   "cell_type": "code",
   "execution_count": 32,
   "metadata": {},
   "outputs": [
    {
     "name": "stdout",
     "output_type": "stream",
     "text": [
      "['cat', 'dog', 'cat']\n",
      "('cat', 'dog', 'cat')\n",
      "{'cat', 'dog'}\n"
     ]
    }
   ],
   "source": [
    "ex_list = ['cat', 'dog', 'cat'] # creating a list with []\n",
    "ex_tuple = ('cat', 'dog', 'cat') # creating a tuple with ()\n",
    "ex_set = {'cat', 'dog', 'cat'} # creating a set with {}\n",
    "\n",
    "print(ex_list)\n",
    "print(ex_tuple)\n",
    "print(ex_set) # note that we have only one 'cat' in our set"
   ]
  },
  {
   "cell_type": "markdown",
   "metadata": {},
   "source": [
    "Indeed. Even though we've tried to store two `'cat'` strings in our set, only one was added. It happened because sets can store **only unique objects**.\n",
    "\n",
    "Python data type is also called `set`. Using `set()` function without arguments we can create an empty set. We can convert list to a set by passing a list as an argument."
   ]
  },
  {
   "cell_type": "code",
   "execution_count": 33,
   "metadata": {},
   "outputs": [
    {
     "name": "stdout",
     "output_type": "stream",
     "text": [
      "<class 'set'> set()\n",
      "<class 'set'> {'cat', 'dog'}\n"
     ]
    }
   ],
   "source": [
    "empty_set = set() # creating an empty set\n",
    "example_set = set(['cat', 'dog', 'cat']) # converting a list to a set\n",
    "\n",
    "print(type(empty_set), empty_set)\n",
    "print(type(example_set), example_set)"
   ]
  },
  {
   "cell_type": "markdown",
   "metadata": {},
   "source": [
    "In the same way we can convert **strings** or **tuples** into a set."
   ]
  },
  {
   "cell_type": "code",
   "execution_count": 34,
   "metadata": {},
   "outputs": [
    {
     "name": "stdout",
     "output_type": "stream",
     "text": [
      "{'i', 't', 'y', 'k'}\n",
      "{'dog'}\n"
     ]
    }
   ],
   "source": [
    "print(set('kitty')) # set of unique symbols from a string\n",
    "print(set(('dog', 'dog'))) # set of unique objects from a tuple"
   ]
  },
  {
   "cell_type": "markdown",
   "metadata": {},
   "source": [
    "Set can store objects of different data types but only those which are **immutable**."
   ]
  },
  {
   "cell_type": "code",
   "execution_count": 39,
   "metadata": {},
   "outputs": [
    {
     "name": "stdout",
     "output_type": "stream",
     "text": [
      "{False, 1, (2, 4), 'cat', 4.5}\n"
     ]
    }
   ],
   "source": [
    "example_1 = {1, 'cat', (2,4), 4.5, False}\n",
    "print(example_1)"
   ]
  },
  {
   "cell_type": "code",
   "execution_count": 40,
   "metadata": {},
   "outputs": [
    {
     "ename": "TypeError",
     "evalue": "unhashable type: 'list'",
     "output_type": "error",
     "traceback": [
      "\u001b[0;31m---------------------------------------------------------------------------\u001b[0m",
      "\u001b[0;31mTypeError\u001b[0m                                 Traceback (most recent call last)",
      "Cell \u001b[0;32mIn[40], line 1\u001b[0m\n\u001b[0;32m----> 1\u001b[0m example_2 \u001b[38;5;241m=\u001b[39m {[\u001b[38;5;241m4\u001b[39m, \u001b[38;5;241m4\u001b[39m], \u001b[38;5;241m4\u001b[39m}\n",
      "\u001b[0;31mTypeError\u001b[0m: unhashable type: 'list'"
     ]
    }
   ],
   "source": [
    "example_2 = {[4, 4], 4} # trying to create a set that contains a list"
   ]
  },
  {
   "cell_type": "markdown",
   "metadata": {},
   "source": [
    "We got an error. So far we know only two mutable data types — `list` and `set` itself. All other objects can be a part of a set."
   ]
  },
  {
   "cell_type": "markdown",
   "metadata": {},
   "source": [
    "Set is not an ordered sequence. Python has no idea which item of a set is the first and which is the last. Thus we cannot use indexing with sets."
   ]
  },
  {
   "cell_type": "code",
   "execution_count": 41,
   "metadata": {},
   "outputs": [
    {
     "ename": "TypeError",
     "evalue": "'set' object is not subscriptable",
     "output_type": "error",
     "traceback": [
      "\u001b[0;31m---------------------------------------------------------------------------\u001b[0m",
      "\u001b[0;31mTypeError\u001b[0m                                 Traceback (most recent call last)",
      "Cell \u001b[0;32mIn[41], line 2\u001b[0m\n\u001b[1;32m      1\u001b[0m ex_set \u001b[38;5;241m=\u001b[39m {\u001b[38;5;124m'\u001b[39m\u001b[38;5;124mcat\u001b[39m\u001b[38;5;124m'\u001b[39m, \u001b[38;5;124m'\u001b[39m\u001b[38;5;124mdog\u001b[39m\u001b[38;5;124m'\u001b[39m, \u001b[38;5;124m'\u001b[39m\u001b[38;5;124mcat\u001b[39m\u001b[38;5;124m'\u001b[39m}\n\u001b[0;32m----> 2\u001b[0m \u001b[43mex_set\u001b[49m\u001b[43m[\u001b[49m\u001b[38;5;241;43m0\u001b[39;49m\u001b[43m]\u001b[49m\n",
      "\u001b[0;31mTypeError\u001b[0m: 'set' object is not subscriptable"
     ]
    }
   ],
   "source": [
    "ex_set = {'cat', 'dog', 'cat'}\n",
    "ex_set[0]"
   ]
  },
  {
   "cell_type": "markdown",
   "metadata": {},
   "source": [
    "Error `'set' object is not subscriptable` means that indexing cannot be applied to a set. The only way to get items from a set is to loop through it."
   ]
  },
  {
   "cell_type": "code",
   "execution_count": 42,
   "metadata": {},
   "outputs": [
    {
     "name": "stdout",
     "output_type": "stream",
     "text": [
      "cat\n",
      "dog\n"
     ]
    }
   ],
   "source": [
    "ex_set = {'cat', 'dog'}\n",
    "for item in ex_set: # looping through our set\n",
    "    print(item) # printing each item"
   ]
  },
  {
   "cell_type": "markdown",
   "metadata": {},
   "source": [
    "Speaking of other operations we already know, \n",
    "\n",
    "- We can compute length of a set\n",
    "- We can check if something belongs to a set or if it does not."
   ]
  },
  {
   "cell_type": "code",
   "execution_count": 43,
   "metadata": {},
   "outputs": [
    {
     "name": "stdout",
     "output_type": "stream",
     "text": [
      "2\n",
      "True\n",
      "False\n"
     ]
    }
   ],
   "source": [
    "ex_set = {'cat', 'dog', 'cat'}\n",
    "print(len(ex_set)) # how many items are in the set?\n",
    "\n",
    "print('cat' in ex_set) # does the string 'cat' belong to a set?\n",
    "print('python' in ex_set) # what about the string 'python'?"
   ]
  },
  {
   "cell_type": "markdown",
   "metadata": {},
   "source": [
    "Imagine that the teacher wants to check which marks did his students get and calculate some statistics."
   ]
  },
  {
   "cell_type": "code",
   "execution_count": 44,
   "metadata": {},
   "outputs": [
    {
     "name": "stdout",
     "output_type": "stream",
     "text": [
      "Grade: 10\n",
      "Count: 3\n",
      "Grade: 10\n",
      "Count: 3\n",
      "Grade: 8\n",
      "Count: 1\n",
      "Grade: 7\n",
      "Count: 1\n",
      "Grade: 4\n",
      "Count: 2\n",
      "Grade: 5\n",
      "Count: 1\n",
      "Grade: 4\n",
      "Count: 2\n",
      "Grade: 10\n",
      "Count: 3\n"
     ]
    }
   ],
   "source": [
    "marks = [10, 10, 8, 7, 4, 5, 4, 10] # marks for 8 students\n",
    "for item in marks:\n",
    "    print('Grade:', item) # printing the mark\n",
    "    print('Count:', marks.count(item)) # printing how many students got that mark"
   ]
  },
  {
   "cell_type": "markdown",
   "metadata": {},
   "source": [
    "Ouch! The non-unique marks were printed several times. We can convert our list to set to avoid the repetition."
   ]
  },
  {
   "cell_type": "code",
   "execution_count": 47,
   "metadata": {},
   "outputs": [
    {
     "name": "stdout",
     "output_type": "stream",
     "text": [
      "Grade: 4\n",
      "Count: 2 \n",
      "\n",
      "Grade: 5\n",
      "Count: 1 \n",
      "\n",
      "Grade: 7\n",
      "Count: 1 \n",
      "\n",
      "Grade: 8\n",
      "Count: 1 \n",
      "\n",
      "Grade: 10\n",
      "Count: 3 \n",
      "\n"
     ]
    }
   ],
   "source": [
    "marks = [10, 10, 8, 7, 4, 5, 4, 10] # list of non-unique marks\n",
    "for item in set(marks): # converting our list to a set of unique marks\n",
    "    print('Grade:', item)\n",
    "    print('Count:', marks.count(item), '\\n')"
   ]
  },
  {
   "cell_type": "markdown",
   "metadata": {},
   "source": [
    "There are two set methods that are particularly useful for us. The fist one is `.add()`. It requires an argument — an item to add to a set.\n",
    "\n",
    "The second is `.remove()`. It requires an argument — an item to remove from a set."
   ]
  },
  {
   "cell_type": "code",
   "execution_count": 48,
   "metadata": {},
   "outputs": [
    {
     "name": "stdout",
     "output_type": "stream",
     "text": [
      "{'cat', 'dog', 'python'}\n",
      "{'cat', 'python'}\n"
     ]
    }
   ],
   "source": [
    "ex_set = {'dog', 'cat'}\n",
    "\n",
    "ex_set.add('python') # adding the string 'python' to a set\n",
    "print(ex_set)\n",
    "\n",
    "ex_set.remove('dog') # removing the stirng 'dog' from a set\n",
    "print(ex_set)"
   ]
  },
  {
   "cell_type": "markdown",
   "metadata": {},
   "source": [
    "If we were to try to remove an item that is not in the set, then we would get an error."
   ]
  },
  {
   "cell_type": "code",
   "execution_count": 49,
   "metadata": {},
   "outputs": [
    {
     "ename": "KeyError",
     "evalue": "'python'",
     "output_type": "error",
     "traceback": [
      "\u001b[0;31m---------------------------------------------------------------------------\u001b[0m",
      "\u001b[0;31mKeyError\u001b[0m                                  Traceback (most recent call last)",
      "Cell \u001b[0;32mIn[49], line 2\u001b[0m\n\u001b[1;32m      1\u001b[0m ex_set \u001b[38;5;241m=\u001b[39m {\u001b[38;5;124m'\u001b[39m\u001b[38;5;124mdog\u001b[39m\u001b[38;5;124m'\u001b[39m, \u001b[38;5;124m'\u001b[39m\u001b[38;5;124mcat\u001b[39m\u001b[38;5;124m'\u001b[39m}\n\u001b[0;32m----> 2\u001b[0m \u001b[43mex_set\u001b[49m\u001b[38;5;241;43m.\u001b[39;49m\u001b[43mremove\u001b[49m\u001b[43m(\u001b[49m\u001b[38;5;124;43m'\u001b[39;49m\u001b[38;5;124;43mpython\u001b[39;49m\u001b[38;5;124;43m'\u001b[39;49m\u001b[43m)\u001b[49m\n",
      "\u001b[0;31mKeyError\u001b[0m: 'python'"
     ]
    }
   ],
   "source": [
    "ex_set = {'dog', 'cat'}\n",
    "ex_set.remove('python') # getting an error, there is no 'python' string in our set"
   ]
  },
  {
   "cell_type": "markdown",
   "metadata": {},
   "source": [
    "Let's try to solve the following problem:\n",
    "\n",
    "For a group of people we want to find all unique languages they speak. Let's input languages' names until the string `'end'` is inputted."
   ]
  },
  {
   "cell_type": "code",
   "execution_count": 51,
   "metadata": {},
   "outputs": [
    {
     "name": "stdout",
     "output_type": "stream",
     "text": [
      "Write the language name: RU\n",
      "Write the language name: RU\n",
      "Write the language name: EN\n",
      "Write the language name: RU\n",
      "Write the language name: FA\n",
      "Write the language name: end\n",
      "\n",
      "We speak:\n",
      "FA, EN, RU\n"
     ]
    }
   ],
   "source": [
    "language = input('Write the language name: ') # reading the first language\n",
    "languages_we_speak = set() # creating an empty set\n",
    "\n",
    "while language != 'end': # starting the loop\n",
    "    languages_we_speak.add(language) # adding read language to a set\n",
    "    language = input('Write the language name: ') # reading new string\n",
    "\n",
    "print('\\nWe speak:')\n",
    "print(*languages_we_speak, sep=', ') # outputting all the unique languages we speak"
   ]
  },
  {
   "cell_type": "markdown",
   "metadata": {},
   "source": [
    "# Set operations\n",
    "\n",
    "<img src=\"https://raw.githubusercontent.com/Majid-Sohrabi/Python_2023_NN/main/Data/img/eiler_1_eng.png\" alt=\"Alt text\" width=\"500\"/>"
   ]
  },
  {
   "cell_type": "markdown",
   "metadata": {},
   "source": [
    "If you've ever encountered the sets before than such diagram should be familiar to you. It is called **Euler diagram**. In such diagram circles are used to represent different sets and relations between them.\n",
    "\n",
    "Let's start with an example. Imagine that you and your friend are roommates. And you are considering to take in a pet. So there is a set of pets that you like (`my_pets_list` variable, green + blue areas on the graph): chinchilla, cat, fish, and grass snake. And there is a set of pets that your friend like (`friend_pets_list`, orange + blue areas on the graph): cat, grass snake, dog, python, and chameleon.\n",
    "\n",
    "So on our diagram the blue area is an **intersection** of those two sets — pets that both of you like (cats and grass snakes). Let's find an intersection of two sets via Python. We use an operator `&` for it.\n",
    "\n",
    "For all sets' operations the result would be also a set. You can always save it to a variable if there is a need."
   ]
  },
  {
   "cell_type": "code",
   "execution_count": 52,
   "metadata": {},
   "outputs": [
    {
     "name": "stdout",
     "output_type": "stream",
     "text": [
      "{'cat', 'grass snake'}\n"
     ]
    }
   ],
   "source": [
    "my_pets_set = {'chinchilla', 'fish', 'grass snake', 'cat'}\n",
    "friend_pets_set = {'grass snake', 'cat', 'python', 'chameleon', 'dog'}\n",
    "print(my_pets_set & friend_pets_set) # intersection, blue area on the diagram"
   ]
  },
  {
   "cell_type": "markdown",
   "metadata": {},
   "source": [
    "Then we can find a **union** — a set of pets that *at least one of you likes*. So those pets either belong to your set or your friend's set. In Python to find a union we use an operator `|`."
   ]
  },
  {
   "cell_type": "code",
   "execution_count": 53,
   "metadata": {},
   "outputs": [
    {
     "name": "stdout",
     "output_type": "stream",
     "text": [
      "{'chinchilla', 'cat', 'dog', 'chameleon', 'grass snake', 'python', 'fish'}\n"
     ]
    }
   ],
   "source": [
    "print(my_pets_set | friend_pets_set) # union, green + blue + orange areas on the diagram"
   ]
  },
  {
   "cell_type": "markdown",
   "metadata": {},
   "source": [
    "For the union and intesection it does not matter the order in which you are passing your sets, the result would be the same. But it would matter for a **difference**. Difference is a way to find animals that you like and your friend does not like, and vice versa.\n",
    "\n",
    "To find a difference we us an `-` operator. And please pay attention to set's order."
   ]
  },
  {
   "cell_type": "code",
   "execution_count": 54,
   "metadata": {},
   "outputs": [
    {
     "name": "stdout",
     "output_type": "stream",
     "text": [
      "{'chinchilla', 'fish'}\n",
      "{'chameleon', 'dog', 'python'}\n"
     ]
    }
   ],
   "source": [
    "# difference, pets that I like and my friend's does not like, green area on the diagram\n",
    "print(my_pets_set - friend_pets_set)\n",
    "\n",
    "# difference, pets that my friend like and I don't like, orange area on the diagram\n",
    "print(friend_pets_set - my_pets_set)"
   ]
  },
  {
   "cell_type": "markdown",
   "metadata": {},
   "source": [
    "Sometimes it would be useful to find a **symmetric difference** — objects that belong only to one of the sets. Or in other words, *objects that do not belong to an intersection of sets*."
   ]
  },
  {
   "cell_type": "code",
   "execution_count": 55,
   "metadata": {},
   "outputs": [
    {
     "name": "stdout",
     "output_type": "stream",
     "text": [
      "{'chinchilla', 'dog', 'chameleon', 'python', 'fish'}\n"
     ]
    }
   ],
   "source": [
    "print(friend_pets_set ^ my_pets_set) # symmetric difference, green + orange areas on a chart"
   ]
  },
  {
   "cell_type": "markdown",
   "metadata": {},
   "source": [
    "Also we can perfrom several set operations in a row. But keep in mind that they are executed from **left to right**, and we have to control the order of operations via brackets.\n",
    "\n",
    "E.g. symmetric difference in other words is a difference between a union of two sets and its intersection. Let's compute it in this way."
   ]
  },
  {
   "cell_type": "code",
   "execution_count": 56,
   "metadata": {
    "scrolled": true
   },
   "outputs": [
    {
     "name": "stdout",
     "output_type": "stream",
     "text": [
      "{'chameleon', 'chinchilla', 'cat', 'dog', 'grass snake', 'python', 'fish'}\n"
     ]
    }
   ],
   "source": [
    "print(my_pets_set | friend_pets_set - my_pets_set & friend_pets_set)"
   ]
  },
  {
   "cell_type": "markdown",
   "metadata": {},
   "source": [
    "The result does not look like the result of the operation above. \n",
    "\n",
    "It happened because Python \n",
    "- (1) the difference between `frind_pets_list` and `my_pets_list`, \n",
    "- (2) found the intersection of the (1) and `frind_pets_list`, \n",
    "- (3) union will be calculated between the result of (2) and `my_pets_list`. \n",
    "\n",
    "Doesn't look like the thing we wanted. Let's help Python by putting brackets around operations we want to be performed first:"
   ]
  },
  {
   "cell_type": "code",
   "execution_count": 57,
   "metadata": {},
   "outputs": [
    {
     "name": "stdout",
     "output_type": "stream",
     "text": [
      "{'chinchilla', 'dog', 'chameleon', 'python', 'fish'}\n"
     ]
    }
   ],
   "source": [
    "print((my_pets_set | friend_pets_set) - (my_pets_set & friend_pets_set)) # union - intersection"
   ]
  },
  {
   "cell_type": "markdown",
   "metadata": {},
   "source": [
    "Now we've found the symmetric difference."
   ]
  },
  {
   "cell_type": "code",
   "execution_count": null,
   "metadata": {},
   "outputs": [],
   "source": []
  },
  {
   "cell_type": "code",
   "execution_count": null,
   "metadata": {},
   "outputs": [],
   "source": []
  },
  {
   "cell_type": "code",
   "execution_count": null,
   "metadata": {},
   "outputs": [],
   "source": []
  },
  {
   "cell_type": "code",
   "execution_count": null,
   "metadata": {},
   "outputs": [],
   "source": []
  },
  {
   "cell_type": "markdown",
   "metadata": {},
   "source": [
    "# 3. Dictionaries\n",
    "\n",
    "It's often convenient to store objects in pairs. In such manner we store a word and its translation in a dictionary; a name and a phone number in a contact book, etc. We have such a data type in Python which will help us to store things in a similair manner. It's called **dictionary**.\n",
    "\n",
    "To create a dictionary we use curly brackets, but we list **not single objects**, but **pairs of objects**."
   ]
  },
  {
   "cell_type": "code",
   "execution_count": 58,
   "metadata": {},
   "outputs": [
    {
     "name": "stdout",
     "output_type": "stream",
     "text": [
      "{'apple': 'fruit', 'hello': 'word'}\n",
      "<class 'dict'>\n"
     ]
    }
   ],
   "source": [
    "d = {'apple': 'fruit' , 'hello': 'word'}\n",
    "\n",
    "print(d)\n",
    "print(type(d))"
   ]
  },
  {
   "cell_type": "markdown",
   "metadata": {},
   "source": [
    "We see that Python indeed stores items together. *Pairs in dictionary are divided by commas, and objects within pairs are divided by colons.*\n",
    "\n",
    "In the same way as sets, dictionaries are *unordered collections of objects*. Meaning we cannot use indexing."
   ]
  },
  {
   "cell_type": "code",
   "execution_count": 59,
   "metadata": {},
   "outputs": [
    {
     "ename": "KeyError",
     "evalue": "0",
     "output_type": "error",
     "traceback": [
      "\u001b[0;31m---------------------------------------------------------------------------\u001b[0m",
      "\u001b[0;31mKeyError\u001b[0m                                  Traceback (most recent call last)",
      "Cell \u001b[0;32mIn[59], line 1\u001b[0m\n\u001b[0;32m----> 1\u001b[0m \u001b[43md\u001b[49m\u001b[43m[\u001b[49m\u001b[38;5;241;43m0\u001b[39;49m\u001b[43m]\u001b[49m\n",
      "\u001b[0;31mKeyError\u001b[0m: 0"
     ]
    }
   ],
   "source": [
    "d[0] # produces an error"
   ]
  },
  {
   "cell_type": "markdown",
   "metadata": {},
   "source": [
    "But in contrast to sets, there is a way to get an item out of a dictionary. Actually, those pairs of objects are called `key:value` pairs, where the `key` part (object that goes BEFORE the colon) plays a similiar role to an index in a list or a string. Imagine that we do not simply store objects (`values`, objects that go AFTER the colon) within a dictionary, but labeling them."
   ]
  },
  {
   "cell_type": "code",
   "execution_count": 60,
   "metadata": {},
   "outputs": [
    {
     "name": "stdout",
     "output_type": "stream",
     "text": [
      "fruit\n",
      "world\n"
     ]
    }
   ],
   "source": [
    "d = {'apple': 'fruit' , 'hello': 'world'}\n",
    "print(d['apple']) # give me an item stored under the label 'apple'\n",
    "print(d['hello']) # give me an item stored under the label 'hello'"
   ]
  },
  {
   "cell_type": "markdown",
   "metadata": {},
   "source": [
    "So it seems that if we know the `key` we can call the `value`. Will it work other way around?"
   ]
  },
  {
   "cell_type": "code",
   "execution_count": null,
   "metadata": {},
   "outputs": [],
   "source": [
    "print(d['fruit']) # it will produce an error since 'fruit' is not a key"
   ]
  },
  {
   "cell_type": "markdown",
   "metadata": {},
   "source": [
    "Thus we see that `keys` and `values` behave a bit differently and here come their features.\n",
    "\n",
    "* `Keys` can be only immutable objects. A **list, a set, or a dictionary** cannot be a key. But anything can be a `value`. In the future we will use a lot of dictionaries, where `values` are the lists.\n",
    "* `Keys` can be only unique whereas the `values` can be non-unique."
   ]
  },
  {
   "cell_type": "code",
   "execution_count": 61,
   "metadata": {},
   "outputs": [
    {
     "name": "stdout",
     "output_type": "stream",
     "text": [
      "{'cat': 'str', 1: 'int', False: 'bool', (7, 8): 'tuple', 'dog': 'str'}\n"
     ]
    }
   ],
   "source": [
    "example_d = {'cat': 'str', 1: 'int', False: 'bool', (7,8): 'tuple', 'dog': 'str'}\n",
    "\n",
    "print(example_d) # different data types act as keys, also note that the value 'str' are repeated twice"
   ]
  },
  {
   "cell_type": "markdown",
   "metadata": {},
   "source": [
    "To create a new `key:value` pair we call the key from a dictionary and assign a value to it in the same manner as we've been assigning things to variables."
   ]
  },
  {
   "cell_type": "code",
   "execution_count": 63,
   "metadata": {},
   "outputs": [
    {
     "name": "stdout",
     "output_type": "stream",
     "text": [
      "{'apple': 'fruit', 'hello': 'word', 'python': 'programming language'}\n"
     ]
    }
   ],
   "source": [
    "d = {'apple': 'fruit' , 'hello': 'word'}\n",
    "d['python'] = 'programming language' # creating a new key:value pair\n",
    "print(d) # checking our dictionary"
   ]
  },
  {
   "cell_type": "markdown",
   "metadata": {},
   "source": [
    "What will happen if we decide to assign a new value to a key that already exists in a dictionary? \n",
    "\n",
    "Since keys can be only unique it will not create a new pair of objects but rather will rewrite the value assigned to that key."
   ]
  },
  {
   "cell_type": "code",
   "execution_count": 64,
   "metadata": {},
   "outputs": [
    {
     "name": "stdout",
     "output_type": "stream",
     "text": [
      "{'apple': 'fruit', 'hello': 'greeting', 'python': 'programming language'}\n"
     ]
    }
   ],
   "source": [
    "d['hello'] = 'greeting'\n",
    "print(d) # value assigned to the key 'hello' changed to 'greeting'"
   ]
  },
  {
   "cell_type": "markdown",
   "metadata": {},
   "source": [
    "If we ever need to remove `key:value` pair from a dictionary, we can do it like this:"
   ]
  },
  {
   "cell_type": "code",
   "execution_count": 65,
   "metadata": {},
   "outputs": [
    {
     "name": "stdout",
     "output_type": "stream",
     "text": [
      "{'apple': 'fruit', 'python': 'programming language'}\n"
     ]
    }
   ],
   "source": [
    "del d['hello'] # this will delete pair 'hello': 'greeting' from a dictionary d\n",
    "print(d)"
   ]
  },
  {
   "cell_type": "markdown",
   "metadata": {},
   "source": [
    "# How to create a dictionary?"
   ]
  },
  {
   "cell_type": "markdown",
   "metadata": {},
   "source": [
    "Here are some situations when it is convenient to use a dictionary.\n",
    "Imagine that we have two lists corresponding to each other: list with students names and their GPA. It would be more convenient to store such data as a dictionary where keys would be students names and values — GPAs."
   ]
  },
  {
   "cell_type": "code",
   "execution_count": 66,
   "metadata": {},
   "outputs": [
    {
     "name": "stdout",
     "output_type": "stream",
     "text": [
      "{'Anna': 8.9, 'Li': 9.2, 'Tanaka': 7.8}\n"
     ]
    }
   ],
   "source": [
    "students = ['Anna', 'Li', 'Tanaka']\n",
    "gpa = [8.9, 9.2, 7.8]\n",
    "\n",
    "grades = {} # creating an empty dictionary\n",
    "for i in range(len(students)):\n",
    "    grades[students[i]] = gpa[i] # for each student creating a key within a dictionary and assigning a corresponding GPA to it\n",
    "\n",
    "print(grades)"
   ]
  },
  {
   "cell_type": "markdown",
   "metadata": {},
   "source": [
    "The second case that you would encounter often would be the situation when you are reading strings into a dictionary. Imagine that we again have the students and their GPAs, but now we don't know how many students are there and we read information line by line, written for each student in a format '{NAME} - {GPA}'."
   ]
  },
  {
   "cell_type": "code",
   "execution_count": 67,
   "metadata": {},
   "outputs": [
    {
     "name": "stdout",
     "output_type": "stream",
     "text": [
      "Input the student Name - GPA:Oleg - 10\n",
      "Input the student Name - GPA:Anna - 8.1\n",
      "Input the student Name - GPA:Oliver - 7\n",
      "Input the student Name - GPA:end\n",
      "{'Oleg': 10.0, 'Anna': 8.1, 'Oliver': 7.0}\n"
     ]
    }
   ],
   "source": [
    "grades = {} # creating an empty dictionary\n",
    "\n",
    "student = input('Input the student Name - GPA:')\n",
    "while student != 'end':\n",
    "    key = student.split(' - ')[0]          # assigning the first part of a string to the `key` variable\n",
    "    value = float(student.split(' - ')[1]) # assigning the second part of a string to the `value` variable\n",
    "    grades[key] = value                    # creating a key:value pair for that student in our dictionary\n",
    "    student = input('Input the student Name - GPA:')\n",
    "\n",
    "print(grades)"
   ]
  },
  {
   "cell_type": "markdown",
   "metadata": {},
   "source": [
    "# Operations with dictionaries\n",
    "\n",
    "We can perform many operations that we already know to a dictionary. E.g. we can check the length of a dictionary. Here the length would be the number of `key:value` pairs."
   ]
  },
  {
   "cell_type": "code",
   "execution_count": 68,
   "metadata": {},
   "outputs": [
    {
     "name": "stdout",
     "output_type": "stream",
     "text": [
      "3\n"
     ]
    }
   ],
   "source": [
    "grades = {'Anna': 8.9, 'Li': 9.2, 'Tanaka': 7.8}\n",
    "print(len(grades)) # there three `key:value` pairs in our dictionary"
   ]
  },
  {
   "cell_type": "markdown",
   "metadata": {},
   "source": [
    "We can also check if something belongs to a dictionary via `in` operator. But be careful, here we can check only if something belongs to the **keys** of a dictionary."
   ]
  },
  {
   "cell_type": "code",
   "execution_count": 69,
   "metadata": {},
   "outputs": [
    {
     "name": "stdout",
     "output_type": "stream",
     "text": [
      "True\n",
      "False\n"
     ]
    }
   ],
   "source": [
    "print('Anna' in grades) # True since 'Anna' is among the keys of a dictionary\n",
    "print(8.9 in grades) # False since `in` not checking the values"
   ]
  },
  {
   "cell_type": "markdown",
   "metadata": {},
   "source": [
    "If we want to check that something belongs to the values of a dictionary, we should use method `.values()` that produces list-like object of all values in that dictionary. There is also the method `.keys()` that works in a similiar manner, but we use it less often."
   ]
  },
  {
   "cell_type": "code",
   "execution_count": 71,
   "metadata": {},
   "outputs": [
    {
     "name": "stdout",
     "output_type": "stream",
     "text": [
      "dict_keys(['Anna', 'Li', 'Tanaka'])\n",
      "dict_values([8.9, 9.2, 7.8])\n"
     ]
    }
   ],
   "source": [
    "print(grades.keys()) # all keys of our dictionary\n",
    "print(grades.values()) # all values of our dictionary"
   ]
  },
  {
   "cell_type": "code",
   "execution_count": 72,
   "metadata": {},
   "outputs": [
    {
     "name": "stdout",
     "output_type": "stream",
     "text": [
      "False\n",
      "False\n",
      "True\n"
     ]
    }
   ],
   "source": [
    "print(8.9 in grades) # False since 8.9 is not among the keys of `grades`\n",
    "print(8.9 in grades.keys()) # Basically does the same as the line above\n",
    "print(8.9 in grades.values()) # True since 8.9 actually belongs to the values of `grades`"
   ]
  },
  {
   "cell_type": "markdown",
   "metadata": {},
   "source": [
    "Imagine that we have an English-Russian dictionary stored as a Python dictionary, where the words in English are keys and the words in Russian are values. The code below is checking whether the inputted word is in English (belongs to the keys of our dictionary), in Russian (belongs to the values of our dictionary), or does not belong to a dictionary at all."
   ]
  },
  {
   "cell_type": "code",
   "execution_count": 75,
   "metadata": {},
   "outputs": [
    {
     "name": "stdout",
     "output_type": "stream",
     "text": [
      "dict_keys(['apple', 'hello', 'python', 'mouse'])\n",
      "dict_values(['яблоко', 'привет', 'питон', 'мышь'])\n",
      "Write a word to check: python\n",
      "The word is in English: python\n"
     ]
    }
   ],
   "source": [
    "eng_rus = {'apple': 'яблоко', 'hello': 'привет', 'python': 'питон', 'mouse': 'мышь'}\n",
    "\n",
    "print(eng_rus.keys())\n",
    "print(eng_rus.values())\n",
    "\n",
    "word = input('Write a word to check: ')\n",
    "\n",
    "if word in eng_rus: # if the word is among the keys\n",
    "    print('The word is in English:', word) # print that it is an English word\n",
    "    \n",
    "elif word in eng_rus.values(): # if the word is among the values\n",
    "    print('The word is in Russian:', word) # print that it is a Russian word\n",
    "    \n",
    "else: # if there is no such word in our dictionary\n",
    "    print('There is no such word in our dictionary.') # print that we don't have it"
   ]
  },
  {
   "cell_type": "markdown",
   "metadata": {},
   "source": [
    "We also can loop through our dictionary, but note that Python will go through all the keys."
   ]
  },
  {
   "cell_type": "code",
   "execution_count": 76,
   "metadata": {},
   "outputs": [
    {
     "name": "stdout",
     "output_type": "stream",
     "text": [
      "Anna\n",
      "Li\n",
      "Tanaka\n"
     ]
    }
   ],
   "source": [
    "grades = {'Anna': 8.9, 'Li': 9.2, 'Tanaka': 7.8}\n",
    "\n",
    "for key in grades:\n",
    "    print(key) # this will print only student names"
   ]
  },
  {
   "cell_type": "markdown",
   "metadata": {},
   "source": [
    "However, it is easy to get values as well. We just need to call it within the loop."
   ]
  },
  {
   "cell_type": "code",
   "execution_count": 77,
   "metadata": {},
   "outputs": [
    {
     "name": "stdout",
     "output_type": "stream",
     "text": [
      "Name: Anna\n",
      "Grade: 8.9\n",
      "**********\n",
      "\n",
      "Name: Li\n",
      "Grade: 9.2\n",
      "**********\n",
      "\n",
      "Name: Tanaka\n",
      "Grade: 7.8\n",
      "**********\n",
      "\n"
     ]
    }
   ],
   "source": [
    "grades = {'Anna': 8.9, 'Li': 9.2, 'Tanaka': 7.8}\n",
    "\n",
    "for key in grades:\n",
    "    print('Name:', key)\n",
    "    print('Grade:', grades[key]) # printing the grade assigned to the name in the `key` variable\n",
    "    print('*'*10 + '\\n') # printing 10 starts to separate one student from the next"
   ]
  },
  {
   "cell_type": "markdown",
   "metadata": {},
   "source": [
    "Now let's add the condition. Let's print info only for those students, whose GPA is higher or equal to 8."
   ]
  },
  {
   "cell_type": "code",
   "execution_count": 78,
   "metadata": {},
   "outputs": [
    {
     "name": "stdout",
     "output_type": "stream",
     "text": [
      "Name: Anna\n",
      "Grade: 8.9\n",
      "**********\n",
      "\n",
      "Name: Li\n",
      "Grade: 9.2\n",
      "**********\n",
      "\n"
     ]
    }
   ],
   "source": [
    "grades = {'Anna': 8.9, 'Li': 9.2, 'Tanaka': 7.8}\n",
    "\n",
    "for key in grades:\n",
    "    if grades[key] >= 8: # checking GPA\n",
    "        print('Name:', key)\n",
    "        print('Grade:', grades[key])\n",
    "        print('*'*10 + '\\n')"
   ]
  },
  {
   "cell_type": "code",
   "execution_count": null,
   "metadata": {},
   "outputs": [],
   "source": []
  },
  {
   "cell_type": "code",
   "execution_count": null,
   "metadata": {},
   "outputs": [],
   "source": []
  },
  {
   "cell_type": "code",
   "execution_count": null,
   "metadata": {},
   "outputs": [],
   "source": []
  },
  {
   "cell_type": "markdown",
   "metadata": {},
   "source": [
    "### Task 1:"
   ]
  },
  {
   "cell_type": "markdown",
   "metadata": {},
   "source": [
    "1. Create a dictionary with names and ages of five people and print it."
   ]
  },
  {
   "cell_type": "code",
   "execution_count": 105,
   "metadata": {},
   "outputs": [
    {
     "name": "stdout",
     "output_type": "stream",
     "text": [
      "Dictionary:  {'Elena': 24, 'Mariia': 25, 'Nick': 35, 'John': 28, 'Eva': 22}\n"
     ]
    }
   ],
   "source": [
    "people = {'Elena': 24,\n",
    "          'Mariia': 25,\n",
    "          'Nick': 35,\n",
    "          'John': 28,\n",
    "          'Eva': 22\n",
    "         }\n",
    "\n",
    "print(\"Dictionary: \", people)"
   ]
  },
  {
   "cell_type": "markdown",
   "metadata": {},
   "source": [
    "2. Access and print the value associated with a given key from a dictionary."
   ]
  },
  {
   "cell_type": "code",
   "execution_count": 106,
   "metadata": {},
   "outputs": [
    {
     "name": "stdout",
     "output_type": "stream",
     "text": [
      "The value associated to Mariia is 25\n"
     ]
    }
   ],
   "source": [
    "key = 'Mariia'\n",
    "print(f'The value associated to {key} is {people[key]}')"
   ]
  },
  {
   "cell_type": "markdown",
   "metadata": {},
   "source": [
    "3. Add a new key-value pair to the dictionary and print it."
   ]
  },
  {
   "cell_type": "code",
   "execution_count": 107,
   "metadata": {},
   "outputs": [
    {
     "name": "stdout",
     "output_type": "stream",
     "text": [
      "{'Elena': 24, 'Mariia': 25, 'Nick': 35, 'John': 28, 'Eva': 22, 'Alexandra': 24}\n"
     ]
    }
   ],
   "source": [
    "people['Alexandra'] = 24\n",
    "print(people)"
   ]
  },
  {
   "cell_type": "markdown",
   "metadata": {},
   "source": [
    "4. Remove a specific key from a dictionary and print it."
   ]
  },
  {
   "cell_type": "code",
   "execution_count": 108,
   "metadata": {},
   "outputs": [
    {
     "name": "stdout",
     "output_type": "stream",
     "text": [
      "{'Mariia': 25, 'Nick': 35, 'John': 28, 'Eva': 22, 'Alexandra': 24}\n"
     ]
    }
   ],
   "source": [
    "del people['Elena']\n",
    "print(people)"
   ]
  },
  {
   "cell_type": "markdown",
   "metadata": {},
   "source": [
    "5. Check if a specific key exists in the dictionary."
   ]
  },
  {
   "cell_type": "code",
   "execution_count": 109,
   "metadata": {},
   "outputs": [
    {
     "name": "stdout",
     "output_type": "stream",
     "text": [
      "Oleg\n",
      "False\n"
     ]
    }
   ],
   "source": [
    "students = {'Vasya' : '13', 'Masha' : '12', 'Kostya' : '15', 'Alicia' : '16', 'Dima' : '17'}\n",
    "print(input() in students)"
   ]
  },
  {
   "cell_type": "code",
   "execution_count": 111,
   "metadata": {},
   "outputs": [
    {
     "name": "stdout",
     "output_type": "stream",
     "text": [
      "Yes!\n"
     ]
    }
   ],
   "source": [
    "key_to_check = 'Nick'\n",
    "if key_to_check in people:\n",
    "    print(\"Yes!\")\n",
    "else:\n",
    "    print('No!')"
   ]
  },
  {
   "cell_type": "markdown",
   "metadata": {},
   "source": [
    "6. Iterate through the dictionary and print each key-value pair."
   ]
  },
  {
   "cell_type": "code",
   "execution_count": 112,
   "metadata": {},
   "outputs": [
    {
     "name": "stdout",
     "output_type": "stream",
     "text": [
      "('Mariia', 25)\n",
      "('Nick', 35)\n",
      "('John', 28)\n",
      "('Eva', 22)\n",
      "('Alexandra', 24)\n"
     ]
    }
   ],
   "source": [
    "for item in people.items():\n",
    "    print(item)"
   ]
  },
  {
   "cell_type": "markdown",
   "metadata": {},
   "source": [
    "7. Find and print the key with the maximum value in the dictionary."
   ]
  },
  {
   "cell_type": "code",
   "execution_count": 116,
   "metadata": {},
   "outputs": [
    {
     "data": {
      "text/plain": [
       "'Nick'"
      ]
     },
     "execution_count": 116,
     "metadata": {},
     "output_type": "execute_result"
    }
   ],
   "source": [
    "max(people, key=people.get)"
   ]
  },
  {
   "cell_type": "code",
   "execution_count": 118,
   "metadata": {},
   "outputs": [
    {
     "name": "stdout",
     "output_type": "stream",
     "text": [
      "The highest grade is 35\n",
      "Nick\n"
     ]
    }
   ],
   "source": [
    "max_mark = max(people.values())\n",
    "\n",
    "print(f'The highest grade is {max_mark}')\n",
    "\n",
    "for key in people:\n",
    "    if people[key] == max_mark:\n",
    "        print(key)"
   ]
  },
  {
   "cell_type": "code",
   "execution_count": null,
   "metadata": {},
   "outputs": [],
   "source": []
  },
  {
   "cell_type": "markdown",
   "metadata": {},
   "source": [
    "### Task 2:\n",
    "\n",
    "1. Create a set with five unique elements and print it."
   ]
  },
  {
   "cell_type": "code",
   "execution_count": 119,
   "metadata": {},
   "outputs": [
    {
     "name": "stdout",
     "output_type": "stream",
     "text": [
      "{1, 2, 3, 4, 5}\n"
     ]
    }
   ],
   "source": [
    "numbers = {1,2,3,4,5}\n",
    "print(numbers)"
   ]
  },
  {
   "cell_type": "markdown",
   "metadata": {},
   "source": [
    "2. Add a new element to the set."
   ]
  },
  {
   "cell_type": "code",
   "execution_count": 120,
   "metadata": {},
   "outputs": [],
   "source": [
    "numbers.add(6)"
   ]
  },
  {
   "cell_type": "code",
   "execution_count": 121,
   "metadata": {},
   "outputs": [
    {
     "data": {
      "text/plain": [
       "{1, 2, 3, 4, 5, 6}"
      ]
     },
     "execution_count": 121,
     "metadata": {},
     "output_type": "execute_result"
    }
   ],
   "source": [
    "numbers"
   ]
  },
  {
   "cell_type": "markdown",
   "metadata": {},
   "source": [
    "3. Remove a specific element from the set."
   ]
  },
  {
   "cell_type": "code",
   "execution_count": 122,
   "metadata": {},
   "outputs": [],
   "source": [
    "numbers.remove(3)"
   ]
  },
  {
   "cell_type": "code",
   "execution_count": 123,
   "metadata": {},
   "outputs": [
    {
     "data": {
      "text/plain": [
       "{1, 2, 4, 5, 6}"
      ]
     },
     "execution_count": 123,
     "metadata": {},
     "output_type": "execute_result"
    }
   ],
   "source": [
    "numbers"
   ]
  },
  {
   "cell_type": "markdown",
   "metadata": {},
   "source": [
    "4. Find the union of two sets."
   ]
  },
  {
   "cell_type": "code",
   "execution_count": 124,
   "metadata": {},
   "outputs": [
    {
     "name": "stdout",
     "output_type": "stream",
     "text": [
      "{1, 2, 3, 4, 5}\n"
     ]
    }
   ],
   "source": [
    "set1 = {1,2,3}\n",
    "set2 = {3,4,5}\n",
    "\n",
    "union_set = set1.union(set2)\n",
    "print(union_set)"
   ]
  },
  {
   "cell_type": "markdown",
   "metadata": {},
   "source": [
    "5. Find the intersection of two sets."
   ]
  },
  {
   "cell_type": "code",
   "execution_count": 126,
   "metadata": {},
   "outputs": [
    {
     "name": "stdout",
     "output_type": "stream",
     "text": [
      "{3}\n"
     ]
    }
   ],
   "source": [
    "intersection_set = set1.intersection(set2)\n",
    "print(intersection_set)"
   ]
  },
  {
   "cell_type": "markdown",
   "metadata": {},
   "source": [
    "6. Find the difference between two sets."
   ]
  },
  {
   "cell_type": "code",
   "execution_count": 128,
   "metadata": {},
   "outputs": [
    {
     "name": "stdout",
     "output_type": "stream",
     "text": [
      "{1, 2}\n"
     ]
    }
   ],
   "source": [
    "difference_set = set1.difference(set2)\n",
    "print(difference_set)"
   ]
  },
  {
   "cell_type": "markdown",
   "metadata": {},
   "source": [
    "7. Find the symmetric difference between two sets."
   ]
  },
  {
   "cell_type": "code",
   "execution_count": 130,
   "metadata": {},
   "outputs": [
    {
     "name": "stdout",
     "output_type": "stream",
     "text": [
      "{1, 2, 4, 5}\n"
     ]
    }
   ],
   "source": [
    "symmetric_diff = set1.symmetric_difference(set2)\n",
    "print(symmetric_diff)"
   ]
  },
  {
   "cell_type": "code",
   "execution_count": null,
   "metadata": {},
   "outputs": [],
   "source": []
  },
  {
   "cell_type": "code",
   "execution_count": null,
   "metadata": {},
   "outputs": [],
   "source": []
  },
  {
   "cell_type": "markdown",
   "metadata": {},
   "source": [
    "Let's go back to our ENG-RUS dictionary example and now we will print the translation of the word to Russian if it was in English or to English if it was in Russian."
   ]
  },
  {
   "cell_type": "code",
   "execution_count": 81,
   "metadata": {},
   "outputs": [
    {
     "name": "stdout",
     "output_type": "stream",
     "text": [
      "Write a word: яблоко\n",
      "apple\n"
     ]
    }
   ],
   "source": [
    "eng_rus = {'apple': 'яблоко', 'hello': 'привет', 'python': 'питон', 'mouse': 'мышь'}\n",
    "\n",
    "word = input('Write a word: ') # which word to check?\n",
    "\n",
    "if word in eng_rus:            # if the word is among the keys\n",
    "    print(eng_rus[word])       # print the value assigned to it\n",
    "    \n",
    "elif word in eng_rus.values(): # if the word is among the values\n",
    "    for item in eng_rus:       # go through each key then\n",
    "        if eng_rus[item] == word: # and compare its' value to an inputted word\n",
    "            print(item) # if it is the same, then print the key to which that value is assigned\n",
    "            \n",
    "else:        # if there is no such word among both the keys and the values\n",
    "    print('No such word in the dictionary') # then print that we don't have it"
   ]
  },
  {
   "cell_type": "markdown",
   "metadata": {},
   "source": [
    "What if we want to extract both `keys` and `values` from the dictionary?\n",
    "\n",
    "We can use the function `.items()`"
   ]
  },
  {
   "cell_type": "code",
   "execution_count": 82,
   "metadata": {},
   "outputs": [
    {
     "name": "stdout",
     "output_type": "stream",
     "text": [
      "The key is: apple\n",
      "Its value is: яблоко\n",
      "\n",
      "\n",
      "The key is: hello\n",
      "Its value is: привет\n",
      "\n",
      "\n",
      "The key is: python\n",
      "Its value is: питон\n",
      "\n",
      "\n",
      "The key is: mouse\n",
      "Its value is: мышь\n",
      "\n",
      "\n"
     ]
    }
   ],
   "source": [
    "eng_rus = {'apple': 'яблоко', 'hello': 'привет', 'python': 'питон', 'mouse': 'мышь'}\n",
    "\n",
    "for key, value in eng_rus.items():\n",
    "    print(f'The key is: {key}')\n",
    "    print(f'Its value is: {value}')\n",
    "    print('\\n')"
   ]
  },
  {
   "cell_type": "code",
   "execution_count": null,
   "metadata": {},
   "outputs": [],
   "source": []
  },
  {
   "cell_type": "code",
   "execution_count": null,
   "metadata": {},
   "outputs": [],
   "source": []
  },
  {
   "cell_type": "code",
   "execution_count": null,
   "metadata": {},
   "outputs": [],
   "source": []
  },
  {
   "cell_type": "code",
   "execution_count": null,
   "metadata": {},
   "outputs": [],
   "source": []
  },
  {
   "cell_type": "markdown",
   "metadata": {},
   "source": [
    "# 4. Sorting in Python\n",
    "\n",
    "We often have a need to sort different things: numbers in ascending order, words in alphabetical order, etc. And it's only natural that in Python there is a function that can perform sorting. The function's name is `sorted()`."
   ]
  },
  {
   "cell_type": "code",
   "execution_count": 83,
   "metadata": {},
   "outputs": [
    {
     "name": "stdout",
     "output_type": "stream",
     "text": [
      "[4, 5, 8.4, 9, 10]\n"
     ]
    }
   ],
   "source": [
    "marks = [8.4, 9, 10, 4, 5]\n",
    "print(sorted(marks))"
   ]
  },
  {
   "cell_type": "markdown",
   "metadata": {},
   "source": [
    "As you see, we've passed a list with numbers `marks` to the function `sorted()` and got the list of sorted numbers in ascending order.\n",
    "\n",
    "If we want to sort something in descending order, then we should assign `True` to a `reverse` parameter of `sorted()` function."
   ]
  },
  {
   "cell_type": "code",
   "execution_count": 84,
   "metadata": {},
   "outputs": [
    {
     "name": "stdout",
     "output_type": "stream",
     "text": [
      "[10, 9, 8.4, 5, 4]\n"
     ]
    }
   ],
   "source": [
    "print(sorted(marks, reverse=True)) # sorting our list in descending order"
   ]
  },
  {
   "cell_type": "markdown",
   "metadata": {},
   "source": [
    "In the previous example we've sorted a list. However, we can also sort sets, tuples, and even dictionaries. But note, that no matter the datatype we sort, `sorted()` will always return a list."
   ]
  },
  {
   "cell_type": "code",
   "execution_count": 85,
   "metadata": {},
   "outputs": [
    {
     "name": "stdout",
     "output_type": "stream",
     "text": [
      "['a', 'a', 'n', 't', 'y']\n",
      "[2, 5, 8]\n",
      "[2, 5, 7]\n",
      "['cat', 'dog']\n"
     ]
    }
   ],
   "source": [
    "# sorted() always returns a list!\n",
    "print(sorted('tanya')) # got a list of sorted symbols\n",
    "print(sorted((8, 5, 2)))\n",
    "print(sorted({5, 7, 2}))\n",
    "print(sorted({'cat':4, 'dog':100})) # here we got the list of sorted dictionary's keys"
   ]
  },
  {
   "cell_type": "markdown",
   "metadata": {},
   "source": [
    "We've just seen that `sorted()` can also sort symbols and they appear in the alphabetical order. But how Python knows what is alphabetical order?"
   ]
  },
  {
   "cell_type": "code",
   "execution_count": 86,
   "metadata": {},
   "outputs": [
    {
     "name": "stdout",
     "output_type": "stream",
     "text": [
      "['dog', 'parrot', 'python']\n",
      "['!', '4', 'Python', 'anaconda']\n"
     ]
    }
   ],
   "source": [
    "print(sorted(['python', 'dog', 'parrot'])) # sorting only-letters strings in lower case\n",
    "print(sorted(['!','Python', '4', 'anaconda'])) # sorting diffirent strings + mixed case"
   ]
  },
  {
   "cell_type": "markdown",
   "metadata": {},
   "source": [
    "Actually, Python has no idea what is an alphabet. But Python has an access to the code chart. Let's have a look at [ASCII](https://en.wikipedia.org/wiki/ASCII) code chart below. It is a code chart that consists of 128 most popular symbols and latin letters — most of them you can find on your keyboard. Many other code charts (e.g. [Unicode](https://en.wikipedia.org/wiki/UTF-8) that must be familiar to you) are extensions of ASCII chart. And the logic described below would apply to all those as well.  \n",
    "\n",
    "<img src=\"https://upload.wikimedia.org/wikipedia/commons/thumb/4/4f/ASCII_Code_Chart.svg/369px-ASCII_Code_Chart.svg.png\" alt=\"Alt text\" width=\"500\"/>\n",
    "\n",
    "If you look at chart you will notice that symbols are placed one after another — from left to right, line by line. So Python has no idea about alphabet, but it rather looks for the symbol position in the code chart. If the first symbol of the string appears there earlier than the first symbol of the other string, then the former is sorted in front of the latter. If  the symbols are the same, Python compares the second ones, etc.\n",
    "\n",
    "Let's sort another list of mixed strings. Check positions of the symbols in the chart above to see why Python sorted the strings this way."
   ]
  },
  {
   "cell_type": "code",
   "execution_count": 87,
   "metadata": {},
   "outputs": [
    {
     "name": "stdout",
     "output_type": "stream",
     "text": [
      "['!', '2', 'Parrot', '[', 'dog', 'parrot', 'python', '{', '|']\n"
     ]
    }
   ],
   "source": [
    "print(sorted(['python', 'dog', 'parrot', '2', '[', 'Parrot', '!', '|', '{']))"
   ]
  },
  {
   "cell_type": "markdown",
   "metadata": {},
   "source": [
    "## `key` parameter"
   ]
  },
  {
   "cell_type": "markdown",
   "metadata": {},
   "source": [
    "The most problematic thing when sorting strings is that all capital case symbols go before lower-case in those code charts. Meaning that Python will always sort words starting with an upper-case letter in front of those starting with lower-case letters."
   ]
  },
  {
   "cell_type": "code",
   "execution_count": 88,
   "metadata": {},
   "outputs": [
    {
     "name": "stdout",
     "output_type": "stream",
     "text": [
      "['Lebedeva', 'Romanova', 'aramov', 'ivanov']\n"
     ]
    }
   ],
   "source": [
    "print(sorted(['ivanov', 'Romanova', 'aramov', 'Lebedeva']))"
   ]
  },
  {
   "cell_type": "markdown",
   "metadata": {},
   "source": [
    "It could be sometimes problematic when we doing some kind of text analysis. \n",
    "\n",
    "However, there are ways to deal with it. First, we can bring all our strings to lower case with a help of `map()` or `.lower()` and then sort that object."
   ]
  },
  {
   "cell_type": "code",
   "execution_count": 89,
   "metadata": {},
   "outputs": [
    {
     "name": "stdout",
     "output_type": "stream",
     "text": [
      "['aramov', 'ivanov', 'lebedeva', 'romanova']\n"
     ]
    }
   ],
   "source": [
    "students = ['ivanov', 'Romanova', 'aramov', 'Lebedeva']\n",
    "\n",
    "print(sorted(map(str.lower, students)))"
   ]
  },
  {
   "cell_type": "markdown",
   "metadata": {},
   "source": [
    "However, in that case we've lost the upper-case. And often it is an important information. In Python there is a way to sort mixed-case strings disregarding the case. Let's use for it `key` parameter of `sorted()`."
   ]
  },
  {
   "cell_type": "code",
   "execution_count": 90,
   "metadata": {},
   "outputs": [
    {
     "name": "stdout",
     "output_type": "stream",
     "text": [
      "['aramov', 'ivanov', 'Lebedeva', 'Romanova']\n"
     ]
    }
   ],
   "source": [
    "print(sorted(students, key=str.lower))"
   ]
  },
  {
   "cell_type": "markdown",
   "metadata": {},
   "source": [
    "Indeed, Python has sorted our strings not case-sensetive, but preserved the case. How did it happen? You see, one assigns a function to `key` parameter. Then Python will apply that function to all elements of your collection and remebers the correspondence between the original objects and the changed objects. Then it will sort the changed objects, but as a final result will give you a list of the correspondent ORIGINAL objects sorted in that order. Uuhhh, sounds complicated! But bear with me.\n",
    "\n",
    "In our example Python brought all the strings to lower case, then sorted those lower-case strings and then gave us the list of original strings sorted in that order.\n",
    "\n",
    "Let's check another example where `key` might be useful. Imagine that you read a sequence of dates and you have to print them in chronological order."
   ]
  },
  {
   "cell_type": "code",
   "execution_count": 91,
   "metadata": {},
   "outputs": [
    {
     "name": "stdout",
     "output_type": "stream",
     "text": [
      "1 11 2 20 24 8\n"
     ]
    }
   ],
   "source": [
    "dates = ['1', '8', '11', '20', '24', '2']\n",
    "print(*sorted(dates))"
   ]
  },
  {
   "cell_type": "markdown",
   "metadata": {},
   "source": [
    "Oops, looks not exactly correct. Since our dates are strings, Python sorted them as strings according to the code chart. And the 'word' '20' goes before '8', since '2' appears earlier than '8' in that chart. \n",
    "\n",
    "To solve the problem correctly you should either convert all strings to numbers before sorting or you can use `key` parameter with `int` function!"
   ]
  },
  {
   "cell_type": "code",
   "execution_count": 93,
   "metadata": {},
   "outputs": [
    {
     "name": "stdout",
     "output_type": "stream",
     "text": [
      "1 2 8 11 20 24\n",
      "1 2 8 11 20 24\n"
     ]
    }
   ],
   "source": [
    "dates = ['1', '8', '11', '20', '24', '2']\n",
    "\n",
    "# both lines of code below produce the similiar result\n",
    "print(*sorted(map(int, dates)))\n",
    "\n",
    "print(*sorted(dates, key=int))"
   ]
  },
  {
   "cell_type": "markdown",
   "metadata": {},
   "source": [
    "Also `key` works for `min()` and `max()` functions. We are already familiar with those."
   ]
  },
  {
   "cell_type": "code",
   "execution_count": 95,
   "metadata": {},
   "outputs": [
    {
     "name": "stdout",
     "output_type": "stream",
     "text": [
      "Lebedeva\n",
      "aramov\n",
      "ivanov\n",
      "Romanova\n"
     ]
    }
   ],
   "source": [
    "students = ['ivanov', 'Romanova', 'aramov', 'Lebedeva']\n",
    "\n",
    "print(min(students)) # among 'L', 'R', 'a' and 'i', capital 'L' is the earliest symbol\n",
    "print(min(students, key=str.lower)) # among 'l', 'r', 'a' and 'i', lower case 'a' is the earliest symbol\n",
    "\n",
    "print(max(students)) # among 'L', 'R', 'a' and 'i', lower 'i' is the latest symbol\n",
    "print(max(students, key=str.lower)) # among 'l', 'r', 'a' and 'i', lower 'r'\n",
    "                                    # is the latest symbol, originial string is returned"
   ]
  },
  {
   "cell_type": "markdown",
   "metadata": {},
   "source": [
    "## Sorting dictionaries\n",
    "\n",
    "Things become a bit tricky when it comes to the sorting of dictionaries. Imagine that we have a dictionary where the keys are students surnames and the values are their marks. Let's sort our dictionary."
   ]
  },
  {
   "cell_type": "code",
   "execution_count": 96,
   "metadata": {},
   "outputs": [
    {
     "name": "stdout",
     "output_type": "stream",
     "text": [
      "['Ivanov', 'Kim', 'Romanova', 'Suzuki']\n"
     ]
    }
   ],
   "source": [
    "marks = {'Romanova': 8, 'Kim': 7, 'Suzuki': 9, 'Ivanov': 9}\n",
    "print(sorted(marks))"
   ]
  },
  {
   "cell_type": "markdown",
   "metadata": {},
   "source": [
    "When we sort a dictionary we get a sorted list of **keys**. Meaning if we want to work with our dictionary sorted according the order of keys (numerical of alphabetical), it is very easy to implement. Let's print surnames of our students in alphabetical order as well as their corresponding grades."
   ]
  },
  {
   "cell_type": "code",
   "execution_count": 97,
   "metadata": {},
   "outputs": [
    {
     "name": "stdout",
     "output_type": "stream",
     "text": [
      "Ivanov 9\n",
      "Kim 7\n",
      "Romanova 8\n",
      "Suzuki 9\n"
     ]
    }
   ],
   "source": [
    "for key in sorted(marks): # looping through the sorted list of dictionary's keys\n",
    "    print(key, marks[key]) # printing the key and the corresponding value"
   ]
  },
  {
   "cell_type": "markdown",
   "metadata": {},
   "source": [
    "You see? Easy! But how can we sort our dictionary according to the values? \n",
    "\n",
    "Actually there is no simple way to do it. However, it is possible. \n",
    "\n",
    "Remember, there is a method of the dictionary called `.values()` that returns us the list-like object of all dictionary values? It can be sorted!"
   ]
  },
  {
   "cell_type": "code",
   "execution_count": 98,
   "metadata": {},
   "outputs": [
    {
     "name": "stdout",
     "output_type": "stream",
     "text": [
      "dict_values([8, 7, 9, 9])\n",
      "[7, 8, 9, 9]\n"
     ]
    }
   ],
   "source": [
    "print(marks.values()) # all values of our dictionary\n",
    "print(sorted(marks.values())) # list of sorted values"
   ]
  },
  {
   "cell_type": "markdown",
   "metadata": {},
   "source": [
    "Great! We've got a list of sorted values. Now the tricky part. We can loop through that sorted list, but then what?"
   ]
  },
  {
   "cell_type": "code",
   "execution_count": 99,
   "metadata": {},
   "outputs": [
    {
     "name": "stdout",
     "output_type": "stream",
     "text": [
      "7\n",
      "8\n",
      "9\n",
      "9\n"
     ]
    }
   ],
   "source": [
    "for value in sorted(marks.values()):\n",
    "    print(value)"
   ]
  },
  {
   "cell_type": "markdown",
   "metadata": {},
   "source": [
    "Actually, for each value we can start the second loop. We can go through all keys of our dictionary and check whether the value corresponding to that key is the same that we are intersted in. \n",
    "\n",
    "Mind that this double-loop algorithm is not always the best practice when it comes to a big data since it executes A LOT OF operations. But for small cases it is just fine."
   ]
  },
  {
   "cell_type": "code",
   "execution_count": 101,
   "metadata": {},
   "outputs": [
    {
     "name": "stdout",
     "output_type": "stream",
     "text": [
      "7\n",
      "Kim\n",
      "8\n",
      "Romanova\n",
      "9\n",
      "Suzuki\n",
      "Ivanov\n",
      "9\n",
      "Suzuki\n",
      "Ivanov\n"
     ]
    }
   ],
   "source": [
    "for value in sorted(marks.values()):\n",
    "    print(value)\n",
    "    \n",
    "    for key in marks: # starting the nested loop\n",
    "        if marks[key] == value: # if the key's value matches the value of interest\n",
    "            print(key) # then print the key"
   ]
  },
  {
   "cell_type": "markdown",
   "metadata": {},
   "source": [
    "Works almost fine. What is left is to get rid of the repeating information for people that got 9s. It was output twice because we got two similiar values in our dictionary. Let's get rid of all not unique values by converting the object with values into a set before sorting."
   ]
  },
  {
   "cell_type": "code",
   "execution_count": 102,
   "metadata": {},
   "outputs": [
    {
     "name": "stdout",
     "output_type": "stream",
     "text": [
      "7\n",
      "Kim\n",
      "8\n",
      "Romanova\n",
      "9\n",
      "Suzuki\n",
      "Ivanov\n"
     ]
    }
   ],
   "source": [
    "for value in sorted(set(marks.values())): # converting marks.values() to a set\n",
    "    print(value)\n",
    "    for key in marks:\n",
    "        if marks[key] == value:\n",
    "            print(key)"
   ]
  },
  {
   "cell_type": "markdown",
   "metadata": {},
   "source": [
    "And the final touch. What if we want surnames of people who got the same grade to be sorted in alphabetical order? We can loop through the sorted dictionary then!"
   ]
  },
  {
   "cell_type": "code",
   "execution_count": 103,
   "metadata": {},
   "outputs": [
    {
     "name": "stdout",
     "output_type": "stream",
     "text": [
      "7\n",
      "Kim\n",
      "8\n",
      "Romanova\n",
      "9\n",
      "Ivanov\n",
      "Suzuki\n"
     ]
    }
   ],
   "source": [
    "for value in sorted(set(marks.values())):\n",
    "    print(value)\n",
    "    for key in sorted(marks): # looping throught the sorted list of keys\n",
    "        if marks[key] == value:\n",
    "            print(key)"
   ]
  },
  {
   "cell_type": "markdown",
   "metadata": {},
   "source": [
    "Now it's perfect! By the way, in the similiar manner we can find keys corresponding to the minimum or to the maximum value in the dictionary."
   ]
  },
  {
   "cell_type": "code",
   "execution_count": 104,
   "metadata": {},
   "outputs": [
    {
     "name": "stdout",
     "output_type": "stream",
     "text": [
      "The highest grade is 9\n",
      "Students who got the highest grade:\n",
      "Ivanov\n",
      "Suzuki\n"
     ]
    }
   ],
   "source": [
    "max_mark = max(marks.values()) # finding the highest mark\n",
    "\n",
    "print(f'The highest grade is {max_mark}')\n",
    "print('Students who got the highest grade:')\n",
    "for key in sorted(marks):\n",
    "    if marks[key] == max_mark:\n",
    "        print(key)"
   ]
  },
  {
   "cell_type": "code",
   "execution_count": null,
   "metadata": {},
   "outputs": [],
   "source": []
  },
  {
   "cell_type": "code",
   "execution_count": null,
   "metadata": {},
   "outputs": [],
   "source": []
  }
 ],
 "metadata": {
  "colab": {
   "provenance": []
  },
  "kernelspec": {
   "display_name": "Python 3 (ipykernel)",
   "language": "python",
   "name": "python3"
  },
  "language_info": {
   "codemirror_mode": {
    "name": "ipython",
    "version": 3
   },
   "file_extension": ".py",
   "mimetype": "text/x-python",
   "name": "python",
   "nbconvert_exporter": "python",
   "pygments_lexer": "ipython3",
   "version": "3.10.9"
  }
 },
 "nbformat": 4,
 "nbformat_minor": 1
}
